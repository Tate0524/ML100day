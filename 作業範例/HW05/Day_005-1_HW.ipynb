{
 "cells": [
  {
   "cell_type": "markdown",
   "metadata": {},
   "source": [
    "# [作業目標]\n",
    "- 利用範例的創建方式, 創建一組資料, 並練習如何取出最大值"
   ]
  },
  {
   "cell_type": "markdown",
   "metadata": {},
   "source": [
    "# [作業重點]\n",
    "- 練習創立 DataFrame (In[2])\n",
    "- 如何取出口數最多的國家 (In[3], Out[3])"
   ]
  },
  {
   "cell_type": "markdown",
   "metadata": {},
   "source": [
    "## 練習時間\n",
    "在小量的資料上，我們用眼睛就可以看得出來程式碼是否有跑出我們理想中的結果\n",
    "\n",
    "請嘗試想像一個你需要的資料結構 (裡面的值可以是隨機的)，然後用上述的方法把它變成 pandas DataFrame\n",
    "\n",
    "#### Ex: 想像一個 dataframe 有兩個欄位，一個是國家，一個是人口，求人口數最多的國家\n",
    "\n",
    "### Hints: [隨機產生數值](https://blog.csdn.net/christianashannon/article/details/78867204)"
   ]
  },
  {
   "cell_type": "code",
   "execution_count": 2,
   "metadata": {},
   "outputs": [],
   "source": [
    "import pandas as pd\n",
    "import numpy as np"
   ]
  },
  {
   "cell_type": "code",
   "execution_count": 6,
   "metadata": {},
   "outputs": [
    {
     "name": "stdout",
     "output_type": "stream",
     "text": [
      "  國家   人口\n",
      "0  A  624\n",
      "1  B  113\n",
      "2  C   90\n",
      "3  D  758\n",
      "4  E  220\n",
      "5  F  485\n",
      "6  G  323\n",
      "7  I  667\n",
      "8  J  187\n",
      "9  K  351\n"
     ]
    }
   ],
   "source": [
    "people=np.random.randint(1000,size=10)\n",
    "county=['A','B','C','D','E','F','G','I','J','K']\n",
    "\n",
    "data= {'國家':county ,\n",
    "        '人口':people }\n",
    "dataframe= pd.DataFrame(data)\n",
    "print(dataframe)"
   ]
  },
  {
   "cell_type": "code",
   "execution_count": 18,
   "metadata": {},
   "outputs": [
    {
     "name": "stdout",
     "output_type": "stream",
     "text": [
      "  國家   人口\n",
      "3  D  758\n",
      "7  I  667\n",
      "0  A  624\n",
      "5  F  485\n",
      "9  K  351\n",
      "6  G  323\n",
      "4  E  220\n",
      "8  J  187\n",
      "1  B  113\n",
      "2  C   90\n",
      "人口最多的國家:D\n",
      "人口最多的人數:758\n"
     ]
    }
   ],
   "source": [
    "people_max=dataframe.sort_values(by='人口',ascending=False)\n",
    "print(people_max.head(10))\n",
    "print('人口最多的國家:{}'.format(people_max.iloc[0,0]))\n",
    "print('人口最多的人數:{}'.format(people_max.iloc[0,1]))"
   ]
  },
  {
   "cell_type": "code",
   "execution_count": null,
   "metadata": {},
   "outputs": [],
   "source": []
  }
 ],
 "metadata": {
  "kernelspec": {
   "display_name": "Python 3",
   "language": "python",
   "name": "python3"
  },
  "language_info": {
   "codemirror_mode": {
    "name": "ipython",
    "version": 3
   },
   "file_extension": ".py",
   "mimetype": "text/x-python",
   "name": "python",
   "nbconvert_exporter": "python",
   "pygments_lexer": "ipython3",
   "version": "3.8.5"
  }
 },
 "nbformat": 4,
 "nbformat_minor": 2
}
