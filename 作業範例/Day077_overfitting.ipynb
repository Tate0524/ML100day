{
 "cells": [
  {
   "cell_type": "markdown",
   "metadata": {},
   "source": [
    "## 範例重點\n",
    "* 學會從 Keras 內建函式取得資料\n",
    "* 能夠建立簡易的深度學習模型\n",
    "* 觀察並了解 Overfit 現象"
   ]
  },
  {
   "cell_type": "code",
   "execution_count": 1,
   "metadata": {},
   "outputs": [],
   "source": [
    "import os\n",
    "import keras\n",
    "\n",
    "# 本範例不需使用 GPU, 將 GPU 設定為 \"無\"\n",
    "os.environ[\"CUDA_VISIBLE_DEVICES\"] = \"\""
   ]
  },
  {
   "cell_type": "code",
   "execution_count": 2,
   "metadata": {},
   "outputs": [],
   "source": [
    "# 從 Keras 的內建功能中，取得 train 與 test 資料集\n",
    "train, test = keras.datasets.cifar10.load_data()"
   ]
  },
  {
   "cell_type": "code",
   "execution_count": 4,
   "metadata": {},
   "outputs": [],
   "source": [
    "# 將 X 與 Y 獨立放進變數\n",
    "x_train, y_train = train\n",
    "x_test, y_test = test\n",
    "# 資料前處理 - 標準化\n",
    "x_train = x_train / 255.\n",
    "x_test = x_test / 255.\n",
    "\n",
    "# 將資料從圖形 (RGB) 轉為向量 (Single Vector)\n",
    "x_train = x_train.reshape((len(x_train), -1))\n",
    "x_test = x_test.reshape((len(x_test), -1))\n",
    "\n",
    "# 將目標轉為 one-hot encoding\n",
    "y_train = keras.utils.to_categorical(y_train, num_classes=10)\n",
    "y_test = keras.utils.to_categorical(y_test, num_classes=10)"
   ]
  },
  {
   "cell_type": "code",
   "execution_count": 5,
   "metadata": {},
   "outputs": [],
   "source": [
    "# 建立一個有三層隱藏層之神經網路\n",
    "def build_mlp():\n",
    "    input_layer = keras.layers.Input([x_train.shape[-1]])\n",
    "    x = keras.layers.Dense(units=512, activation=\"relu\")(input_layer)\n",
    "    x = keras.layers.Dense(units=256, activation=\"relu\")(x)\n",
    "    x = keras.layers.Dense(units=128, activation=\"relu\")(x)\n",
    "    out = keras.layers.Dense(units=10, activation=\"softmax\")(x)\n",
    "    \n",
    "    model = keras.models.Model(inputs=[input_layer], outputs=[out])\n",
    "    return model"
   ]
  },
  {
   "cell_type": "code",
   "execution_count": 6,
   "metadata": {},
   "outputs": [
    {
     "name": "stdout",
     "output_type": "stream",
     "text": [
      "Model: \"functional_1\"\n",
      "_________________________________________________________________\n",
      "Layer (type)                 Output Shape              Param #   \n",
      "=================================================================\n",
      "input_1 (InputLayer)         [(None, 3072)]            0         \n",
      "_________________________________________________________________\n",
      "dense (Dense)                (None, 512)               1573376   \n",
      "_________________________________________________________________\n",
      "dense_1 (Dense)              (None, 256)               131328    \n",
      "_________________________________________________________________\n",
      "dense_2 (Dense)              (None, 128)               32896     \n",
      "_________________________________________________________________\n",
      "dense_3 (Dense)              (None, 10)                1290      \n",
      "=================================================================\n",
      "Total params: 1,738,890\n",
      "Trainable params: 1,738,890\n",
      "Non-trainable params: 0\n",
      "_________________________________________________________________\n"
     ]
    }
   ],
   "source": [
    "model = build_mlp()\n",
    "# 用 Keras 內建方法檢視模型各層參數量\n",
    "model.summary()\n",
    "\n",
    "optimizer = keras.optimizers.Adam(lr=0.001)\n",
    "model.compile(loss=\"categorical_crossentropy\", metrics=[\"accuracy\"], optimizer=optimizer)"
   ]
  },
  {
   "cell_type": "code",
   "execution_count": 7,
   "metadata": {},
   "outputs": [
    {
     "name": "stdout",
     "output_type": "stream",
     "text": [
      "Epoch 1/100\n",
      "196/196 [==============================] - 25s 126ms/step - loss: 1.9406 - accuracy: 0.2992 - val_loss: 1.7560 - val_accuracy: 0.3783\n",
      "Epoch 2/100\n",
      "196/196 [==============================] - 12s 62ms/step - loss: 1.7041 - accuracy: 0.3901 - val_loss: 1.6340 - val_accuracy: 0.4166\n",
      "Epoch 3/100\n",
      "196/196 [==============================] - 13s 65ms/step - loss: 1.6162 - accuracy: 0.4235 - val_loss: 1.5868 - val_accuracy: 0.4346\n",
      "Epoch 4/100\n",
      "196/196 [==============================] - 11s 56ms/step - loss: 1.5581 - accuracy: 0.4435 - val_loss: 1.5853 - val_accuracy: 0.4375\n",
      "Epoch 5/100\n",
      "196/196 [==============================] - 12s 62ms/step - loss: 1.5061 - accuracy: 0.4628 - val_loss: 1.5020 - val_accuracy: 0.4634\n",
      "Epoch 6/100\n",
      "196/196 [==============================] - 13s 69ms/step - loss: 1.4649 - accuracy: 0.4800 - val_loss: 1.4806 - val_accuracy: 0.4735\n",
      "Epoch 7/100\n",
      "196/196 [==============================] - 14s 70ms/step - loss: 1.4361 - accuracy: 0.4892 - val_loss: 1.4782 - val_accuracy: 0.4695\n",
      "Epoch 8/100\n",
      "196/196 [==============================] - 13s 64ms/step - loss: 1.3947 - accuracy: 0.5029 - val_loss: 1.4912 - val_accuracy: 0.4672\n",
      "Epoch 9/100\n",
      "196/196 [==============================] - 11s 56ms/step - loss: 1.3834 - accuracy: 0.5073 - val_loss: 1.4477 - val_accuracy: 0.4846\n",
      "Epoch 10/100\n",
      "196/196 [==============================] - 11s 55ms/step - loss: 1.3461 - accuracy: 0.5231 - val_loss: 1.4362 - val_accuracy: 0.4937\n",
      "Epoch 11/100\n",
      "196/196 [==============================] - 12s 62ms/step - loss: 1.3252 - accuracy: 0.5273 - val_loss: 1.4098 - val_accuracy: 0.4954272 - ac\n",
      "Epoch 12/100\n",
      "196/196 [==============================] - 13s 66ms/step - loss: 1.2972 - accuracy: 0.5368 - val_loss: 1.4510 - val_accuracy: 0.4902\n",
      "Epoch 13/100\n",
      "196/196 [==============================] - 13s 69ms/step - loss: 1.2832 - accuracy: 0.5447 - val_loss: 1.3725 - val_accuracy: 0.5116\n",
      "Epoch 14/100\n",
      "196/196 [==============================] - 13s 68ms/step - loss: 1.2530 - accuracy: 0.5524 - val_loss: 1.3762 - val_accuracy: 0.5138\n",
      "Epoch 15/100\n",
      "196/196 [==============================] - 15s 76ms/step - loss: 1.2266 - accuracy: 0.5631 - val_loss: 1.3980 - val_accuracy: 0.5043\n",
      "Epoch 16/100\n",
      "196/196 [==============================] - 11s 56ms/step - loss: 1.2214 - accuracy: 0.5647 - val_loss: 1.3598 - val_accuracy: 0.5167\n",
      "Epoch 17/100\n",
      "196/196 [==============================] - 16s 80ms/step - loss: 1.1906 - accuracy: 0.5744 - val_loss: 1.4026 - val_accuracy: 0.5097\n",
      "Epoch 18/100\n",
      "196/196 [==============================] - 12s 63ms/step - loss: 1.1700 - accuracy: 0.5806 - val_loss: 1.3516 - val_accuracy: 0.5209\n",
      "Epoch 19/100\n",
      "196/196 [==============================] - 14s 71ms/step - loss: 1.1415 - accuracy: 0.5930 - val_loss: 1.4544 - val_accuracy: 0.5012\n",
      "Epoch 20/100\n",
      "196/196 [==============================] - 13s 69ms/step - loss: 1.1348 - accuracy: 0.5936 - val_loss: 1.3970 - val_accuracy: 0.5090\n",
      "Epoch 21/100\n",
      "196/196 [==============================] - 14s 70ms/step - loss: 1.1016 - accuracy: 0.6068 - val_loss: 1.3745 - val_accuracy: 0.5147\n",
      "Epoch 22/100\n",
      "196/196 [==============================] - 13s 64ms/step - loss: 1.0887 - accuracy: 0.6109 - val_loss: 1.3934 - val_accuracy: 0.5172\n",
      "Epoch 23/100\n",
      "196/196 [==============================] - 14s 70ms/step - loss: 1.0691 - accuracy: 0.6188 - val_loss: 1.4061 - val_accuracy: 0.5118 1.0645 - accuracy:  - - ETA: 3s - - ETA\n",
      "Epoch 24/100\n",
      "196/196 [==============================] - 19s 96ms/step - loss: 1.0491 - accuracy: 0.6259 - val_loss: 1.3958 - val_accuracy: 0.5186\n",
      "Epoch 25/100\n",
      "196/196 [==============================] - 14s 73ms/step - loss: 1.0342 - accuracy: 0.6300 - val_loss: 1.3921 - val_accuracy: 0.5206\n",
      "Epoch 26/100\n",
      "196/196 [==============================] - 16s 84ms/step - loss: 1.0104 - accuracy: 0.6395 - val_loss: 1.3971 - val_accuracy: 0.5190\n",
      "Epoch 27/100\n",
      "196/196 [==============================] - 13s 67ms/step - loss: 1.0002 - accuracy: 0.6425 - val_loss: 1.4145 - val_accuracy: 0.5198\n",
      "Epoch 28/100\n",
      "196/196 [==============================] - 16s 83ms/step - loss: 0.9758 - accuracy: 0.6503 - val_loss: 1.4164 - val_accuracy: 0.5223\n",
      "Epoch 29/100\n",
      "196/196 [==============================] - 14s 73ms/step - loss: 0.9613 - accuracy: 0.6554 - val_loss: 1.4233 - val_accuracy: 0.5178\n",
      "Epoch 30/100\n",
      "196/196 [==============================] - 14s 70ms/step - loss: 0.9375 - accuracy: 0.6660 - val_loss: 1.4168 - val_accuracy: 0.5287\n",
      "Epoch 31/100\n",
      "196/196 [==============================] - 14s 72ms/step - loss: 0.9201 - accuracy: 0.6727 - val_loss: 1.5272 - val_accuracy: 0.4989\n",
      "Epoch 32/100\n",
      "196/196 [==============================] - 16s 82ms/step - loss: 0.9059 - accuracy: 0.6758 - val_loss: 1.4528 - val_accuracy: 0.5230\n",
      "Epoch 33/100\n",
      "196/196 [==============================] - 13s 67ms/step - loss: 0.8912 - accuracy: 0.6804 - val_loss: 1.4950 - val_accuracy: 0.5186\n",
      "Epoch 34/100\n",
      "196/196 [==============================] - 13s 65ms/step - loss: 0.8737 - accuracy: 0.6892 - val_loss: 1.4799 - val_accuracy: 0.5194\n",
      "Epoch 35/100\n",
      "196/196 [==============================] - 15s 74ms/step - loss: 0.8599 - accuracy: 0.6926 - val_loss: 1.5065 - val_accuracy: 0.5175\n",
      "Epoch 36/100\n",
      "196/196 [==============================] - 17s 87ms/step - loss: 0.8424 - accuracy: 0.6970 - val_loss: 1.5414 - val_accuracy: 0.5128\n",
      "Epoch 37/100\n",
      "196/196 [==============================] - 14s 70ms/step - loss: 0.8249 - accuracy: 0.7032 - val_loss: 1.5033 - val_accuracy: 0.5247\n",
      "Epoch 38/100\n",
      "196/196 [==============================] - 11s 55ms/step - loss: 0.8077 - accuracy: 0.7126 - val_loss: 1.5460 - val_accuracy: 0.5157\n",
      "Epoch 39/100\n",
      "196/196 [==============================] - 14s 71ms/step - loss: 0.7918 - accuracy: 0.7150 - val_loss: 1.5787 - val_accuracy: 0.5184\n",
      "Epoch 40/100\n",
      "196/196 [==============================] - 14s 73ms/step - loss: 0.7763 - accuracy: 0.7202 - val_loss: 1.5810 - val_accuracy: 0.5179\n",
      "Epoch 41/100\n",
      "196/196 [==============================] - 14s 74ms/step - loss: 0.7599 - accuracy: 0.7292 - val_loss: 1.5984 - val_accuracy: 0.5168\n",
      "Epoch 42/100\n",
      "196/196 [==============================] - 14s 71ms/step - loss: 0.7400 - accuracy: 0.7361 - val_loss: 1.6221 - val_accuracy: 0.5193\n",
      "Epoch 43/100\n",
      "196/196 [==============================] - 13s 65ms/step - loss: 0.7259 - accuracy: 0.7391 - val_loss: 1.6918 - val_accuracy: 0.5076\n",
      "Epoch 44/100\n",
      "196/196 [==============================] - 12s 64ms/step - loss: 0.7233 - accuracy: 0.7416 - val_loss: 1.6602 - val_accuracy: 0.5079\n",
      "Epoch 45/100\n",
      "196/196 [==============================] - 13s 67ms/step - loss: 0.7204 - accuracy: 0.7427 - val_loss: 1.6766 - val_accuracy: 0.5114\n",
      "Epoch 46/100\n",
      "196/196 [==============================] - 9s 46ms/step - loss: 0.7011 - accuracy: 0.7480 - val_loss: 1.6995 - val_accuracy: 0.5161\n",
      "Epoch 47/100\n",
      "196/196 [==============================] - 13s 65ms/step - loss: 0.6775 - accuracy: 0.7568 - val_loss: 1.7714 - val_accuracy: 0.5104\n",
      "Epoch 48/100\n",
      "196/196 [==============================] - 14s 69ms/step - loss: 0.6581 - accuracy: 0.7655 - val_loss: 1.7731 - val_accuracy: 0.5069\n",
      "Epoch 49/100\n",
      "196/196 [==============================] - 14s 73ms/step - loss: 0.6571 - accuracy: 0.7650 - val_loss: 1.7664 - val_accuracy: 0.5118\n",
      "Epoch 50/100\n",
      "196/196 [==============================] - 14s 70ms/step - loss: 0.6269 - accuracy: 0.7737 - val_loss: 1.7841 - val_accuracy: 0.5143\n",
      "Epoch 51/100\n",
      "196/196 [==============================] - 13s 66ms/step - loss: 0.6233 - accuracy: 0.7760 - val_loss: 1.8268 - val_accuracy: 0.5131\n",
      "Epoch 52/100\n",
      "196/196 [==============================] - 14s 71ms/step - loss: 0.6168 - accuracy: 0.7785 - val_loss: 1.8868 - val_accuracy: 0.5028\n",
      "Epoch 53/100\n",
      "196/196 [==============================] - 15s 75ms/step - loss: 0.6070 - accuracy: 0.7840 - val_loss: 1.8595 - val_accuracy: 0.5131\n",
      "Epoch 54/100\n",
      "196/196 [==============================] - 15s 78ms/step - loss: 0.5780 - accuracy: 0.7931 - val_loss: 1.9503 - val_accuracy: 0.5106\n",
      "Epoch 55/100\n",
      "196/196 [==============================] - 14s 72ms/step - loss: 0.5750 - accuracy: 0.7945 - val_loss: 1.9106 - val_accuracy: 0.5033\n",
      "Epoch 56/100\n",
      "196/196 [==============================] - 14s 73ms/step - loss: 0.5527 - accuracy: 0.8030 - val_loss: 1.9754 - val_accuracy: 0.5093\n"
     ]
    },
    {
     "name": "stdout",
     "output_type": "stream",
     "text": [
      "Epoch 57/100\n",
      "196/196 [==============================] - 15s 78ms/step - loss: 0.5640 - accuracy: 0.7977 - val_loss: 1.9912 - val_accuracy: 0.5068\n",
      "Epoch 58/100\n",
      "196/196 [==============================] - 15s 75ms/step - loss: 0.5617 - accuracy: 0.7976 - val_loss: 1.9861 - val_accuracy: 0.5117\n",
      "Epoch 59/100\n",
      "196/196 [==============================] - 14s 73ms/step - loss: 0.5392 - accuracy: 0.8053 - val_loss: 2.0661 - val_accuracy: 0.5047\n",
      "Epoch 60/100\n",
      "196/196 [==============================] - 11s 59ms/step - loss: 0.5273 - accuracy: 0.8136 - val_loss: 2.0501 - val_accuracy: 0.5154\n",
      "Epoch 61/100\n",
      "196/196 [==============================] - 13s 65ms/step - loss: 0.5033 - accuracy: 0.8210 - val_loss: 2.1629 - val_accuracy: 0.5003\n",
      "Epoch 62/100\n",
      "196/196 [==============================] - 14s 69ms/step - loss: 0.5112 - accuracy: 0.8165 - val_loss: 2.0611 - val_accuracy: 0.5088\n",
      "Epoch 63/100\n",
      "196/196 [==============================] - 15s 74ms/step - loss: 0.5058 - accuracy: 0.8198 - val_loss: 2.1720 - val_accuracy: 0.5114\n",
      "Epoch 64/100\n",
      "196/196 [==============================] - 13s 66ms/step - loss: 0.4852 - accuracy: 0.8260 - val_loss: 2.2286 - val_accuracy: 0.5140\n",
      "Epoch 65/100\n",
      "196/196 [==============================] - 13s 66ms/step - loss: 0.4808 - accuracy: 0.8270 - val_loss: 2.2901 - val_accuracy: 0.5069\n",
      "Epoch 66/100\n",
      "196/196 [==============================] - 12s 59ms/step - loss: 0.4676 - accuracy: 0.8316 - val_loss: 2.2471 - val_accuracy: 0.5054\n",
      "Epoch 67/100\n",
      "196/196 [==============================] - 12s 62ms/step - loss: 0.4636 - accuracy: 0.8329 - val_loss: 2.3246 - val_accuracy: 0.4966\n",
      "Epoch 68/100\n",
      "196/196 [==============================] - 13s 67ms/step - loss: 0.4623 - accuracy: 0.8336 - val_loss: 2.2890 - val_accuracy: 0.5104\n",
      "Epoch 69/100\n",
      "196/196 [==============================] - 13s 67ms/step - loss: 0.4540 - accuracy: 0.8371 - val_loss: 2.3202 - val_accuracy: 0.5092\n",
      "Epoch 70/100\n",
      "196/196 [==============================] - 13s 65ms/step - loss: 0.4367 - accuracy: 0.8449 - val_loss: 2.3803 - val_accuracy: 0.5089\n",
      "Epoch 71/100\n",
      "196/196 [==============================] - 13s 66ms/step - loss: 0.4373 - accuracy: 0.8427 - val_loss: 2.3876 - val_accuracy: 0.5080\n",
      "Epoch 72/100\n",
      "196/196 [==============================] - 13s 67ms/step - loss: 0.4101 - accuracy: 0.8539 - val_loss: 2.4871 - val_accuracy: 0.5038\n",
      "Epoch 73/100\n",
      "196/196 [==============================] - 13s 66ms/step - loss: 0.4215 - accuracy: 0.8493 - val_loss: 2.4540 - val_accuracy: 0.5071\n",
      "Epoch 74/100\n",
      "196/196 [==============================] - 13s 67ms/step - loss: 0.4332 - accuracy: 0.8440 - val_loss: 2.4845 - val_accuracy: 0.5060\n",
      "Epoch 75/100\n",
      "196/196 [==============================] - 12s 60ms/step - loss: 0.4030 - accuracy: 0.8554 - val_loss: 2.4567 - val_accuracy: 0.5095\n",
      "Epoch 76/100\n",
      "196/196 [==============================] - 13s 67ms/step - loss: 0.3984 - accuracy: 0.8582 - val_loss: 2.5719 - val_accuracy: 0.5010\n",
      "Epoch 77/100\n",
      "196/196 [==============================] - 13s 65ms/step - loss: 0.3841 - accuracy: 0.8627 - val_loss: 2.6011 - val_accuracy: 0.4996\n",
      "Epoch 78/100\n",
      "196/196 [==============================] - 13s 66ms/step - loss: 0.4030 - accuracy: 0.8565 - val_loss: 2.6574 - val_accuracy: 0.5055\n",
      "Epoch 79/100\n",
      "196/196 [==============================] - 13s 66ms/step - loss: 0.3817 - accuracy: 0.8632 - val_loss: 2.5660 - val_accuracy: 0.5053\n",
      "Epoch 80/100\n",
      "196/196 [==============================] - 12s 63ms/step - loss: 0.3672 - accuracy: 0.8689 - val_loss: 2.6692 - val_accuracy: 0.4983\n",
      "Epoch 81/100\n",
      "196/196 [==============================] - 13s 66ms/step - loss: 0.3731 - accuracy: 0.8673 - val_loss: 2.6766 - val_accuracy: 0.5017\n",
      "Epoch 82/100\n",
      "196/196 [==============================] - 11s 57ms/step - loss: 0.3583 - accuracy: 0.8710 - val_loss: 2.7332 - val_accuracy: 0.4944\n",
      "Epoch 83/100\n",
      "196/196 [==============================] - 14s 72ms/step - loss: 0.3583 - accuracy: 0.8714 - val_loss: 2.7567 - val_accuracy: 0.5054\n",
      "Epoch 84/100\n",
      "196/196 [==============================] - 13s 66ms/step - loss: 0.3591 - accuracy: 0.8704 - val_loss: 2.8257 - val_accuracy: 0.5016\n",
      "Epoch 85/100\n",
      "196/196 [==============================] - 13s 65ms/step - loss: 0.3476 - accuracy: 0.8771 - val_loss: 2.8158 - val_accuracy: 0.4975\n",
      "Epoch 86/100\n",
      "196/196 [==============================] - 13s 66ms/step - loss: 0.3367 - accuracy: 0.8787 - val_loss: 2.8628 - val_accuracy: 0.5017\n",
      "Epoch 87/100\n",
      "196/196 [==============================] - 12s 63ms/step - loss: 0.3326 - accuracy: 0.8806 - val_loss: 2.9329 - val_accuracy: 0.5006\n",
      "Epoch 88/100\n",
      "196/196 [==============================] - 12s 62ms/step - loss: 0.3455 - accuracy: 0.8748 - val_loss: 3.0288 - val_accuracy: 0.4903\n",
      "Epoch 89/100\n",
      "196/196 [==============================] - 13s 66ms/step - loss: 0.3252 - accuracy: 0.8831 - val_loss: 2.9817 - val_accuracy: 0.4973\n",
      "Epoch 90/100\n",
      "196/196 [==============================] - 13s 67ms/step - loss: 0.3217 - accuracy: 0.8834 - val_loss: 2.8877 - val_accuracy: 0.5053\n",
      "Epoch 91/100\n",
      "196/196 [==============================] - 13s 67ms/step - loss: 0.3425 - accuracy: 0.8765 - val_loss: 3.0530 - val_accuracy: 0.4960\n",
      "Epoch 92/100\n",
      "196/196 [==============================] - 13s 66ms/step - loss: 0.3330 - accuracy: 0.8788 - val_loss: 3.0721 - val_accuracy: 0.4964\n",
      "Epoch 93/100\n",
      "196/196 [==============================] - 14s 70ms/step - loss: 0.3083 - accuracy: 0.8900 - val_loss: 3.0883 - val_accuracy: 0.4962\n",
      "Epoch 94/100\n",
      "196/196 [==============================] - 13s 67ms/step - loss: 0.3154 - accuracy: 0.8868 - val_loss: 3.1541 - val_accuracy: 0.4956\n",
      "Epoch 95/100\n",
      "196/196 [==============================] - 13s 67ms/step - loss: 0.3297 - accuracy: 0.8806 - val_loss: 3.0029 - val_accuracy: 0.4951\n",
      "Epoch 96/100\n",
      "196/196 [==============================] - 13s 67ms/step - loss: 0.2915 - accuracy: 0.8968 - val_loss: 3.0410 - val_accuracy: 0.5021\n",
      "Epoch 97/100\n",
      "196/196 [==============================] - 13s 67ms/step - loss: 0.2857 - accuracy: 0.8976 - val_loss: 3.2084 - val_accuracy: 0.4966\n",
      "Epoch 98/100\n",
      "196/196 [==============================] - 11s 59ms/step - loss: 0.2805 - accuracy: 0.8997 - val_loss: 3.1600 - val_accuracy: 0.4978\n",
      "Epoch 99/100\n",
      "196/196 [==============================] - 13s 66ms/step - loss: 0.2965 - accuracy: 0.8933 - val_loss: 3.3030 - val_accuracy: 0.4972\n",
      "Epoch 100/100\n",
      "196/196 [==============================] - 13s 66ms/step - loss: 0.2870 - accuracy: 0.8961 - val_loss: 3.3044 - val_accuracy: 0.4948\n"
     ]
    },
    {
     "data": {
      "text/plain": [
       "<tensorflow.python.keras.callbacks.History at 0x1fc897ab910>"
      ]
     },
     "execution_count": 7,
     "metadata": {},
     "output_type": "execute_result"
    }
   ],
   "source": [
    "# 訓練模型並檢視驗證集的結果\n",
    "model.fit(x_train, y_train, \n",
    "          epochs=100, \n",
    "          batch_size=256, \n",
    "          validation_data=(x_test, y_test), \n",
    "          shuffle=True)"
   ]
  },
  {
   "cell_type": "code",
   "execution_count": 11,
   "metadata": {},
   "outputs": [
    {
     "data": {
      "image/png": "[encoded data removed]",
      "text/plain": [
       "<Figure size 432x288 with 1 Axes>"
      ]
     },
     "metadata": {
      "needs_background": "light"
     },
     "output_type": "display_data"
    },
    {
     "data": {
      "image/png": "[encoded data removed]",
      "text/plain": [
       "<Figure size 432x288 with 1 Axes>"
      ]
     },
     "metadata": {
      "needs_background": "light"
     },
     "output_type": "display_data"
    }
   ],
   "source": [
    "# 以視覺畫方式檢視訓練過程\n",
    "import matplotlib.pyplot as plt\n",
    "train_loss = model.history.history[\"loss\"]\n",
    "valid_loss = model.history.history[\"val_loss\"]\n",
    "\n",
    "train_acc = model.history.history[\"accuracy\"]\n",
    "valid_acc = model.history.history[\"val_accuracy\"]\n",
    "\n",
    "plt.plot(range(len(train_loss)), train_loss, label=\"train loss\")\n",
    "plt.plot(range(len(valid_loss)), valid_loss, label=\"valid loss\")\n",
    "plt.legend()\n",
    "plt.title(\"Loss\")\n",
    "plt.show()\n",
    "\n",
    "plt.plot(range(len(train_acc)), train_acc, label=\"train accuracy\")\n",
    "plt.plot(range(len(valid_acc)), valid_acc, label=\"valid accuracy\")\n",
    "plt.legend()\n",
    "plt.title(\"Accuracy\")\n",
    "plt.show()"
   ]
  },
  {
   "cell_type": "markdown",
   "metadata": {},
   "source": [
    "## 作業\n",
    "1. 請將 Epoch 加到 500 個，並觀察 learning curve 的走勢\n",
    "2. 請將 Optimizer 換成 SGD，並觀察 learning curve 的走勢"
   ]
  }
 ],
 "metadata": {
  "kernelspec": {
   "display_name": "Python 3",
   "language": "python",
   "name": "python3"
  },
  "language_info": {
   "codemirror_mode": {
    "name": "ipython",
    "version": 3
   },
   "file_extension": ".py",
   "mimetype": "text/x-python",
   "name": "python",
   "nbconvert_exporter": "python",
   "pygments_lexer": "ipython3",
   "version": "3.8.5"
  }
 },
 "nbformat": 4,
 "nbformat_minor": 2
}
