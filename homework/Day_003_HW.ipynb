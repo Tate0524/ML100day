{
 "cells": [
  {
   "cell_type": "markdown",
   "metadata": {},
   "source": [
    "## [作業目標]\n",
    "持續接觸有關機器學習的相關專案與最新技術"
   ]
  },
  {
   "cell_type": "markdown",
   "metadata": {},
   "source": [
    "## [作業重點]\n",
    "透過觀察頂尖公司的機器學習文章，來了解各公司是怎麼應用機器學習在實際的專案上"
   ]
  },
  {
   "cell_type": "markdown",
   "metadata": {},
   "source": [
    "## [作業]\n",
    "今天的作業希望大家能夠看看全球機器學習巨頭們在做的機器學習專案。以 google 為例，下圖是 Google 內部專案使用機器學習的數量，隨著時間進展，現在早已超過 2000 個專案在使用機器學習。"
   ]
  },
  {
   "cell_type": "markdown",
   "metadata": {},
   "source": [
    "![image](https://cdn-images-1.medium.com/max/800/1*U_L8qI8RmYS-MOBrYvXhSA.png)"
   ]
  },
  {
   "cell_type": "markdown",
   "metadata": {},
   "source": [
    "底下幫同學整理幾間知名企業的 blog 或機器學習網站 (自行搜尋也可)，這些網站都會整理最新的機器學習專案或者是技術文章，請挑選一篇文章閱讀並試著回答\n",
    "1. 專案的目標？ (要解決什麼問題）\n",
    "2. 使用的技術是？ (只需知道名稱即可，例如：使用 CNN 卷積神經網路做影像分類)\n",
    "3. 資料來源？ "
   ]
  },
  {
   "cell_type": "markdown",
   "metadata": {},
   "source": [
    "- [Google AI blog](https://ai.googleblog.com/)\n",
    "- [Facebook Research blog](https://research.fb.com/blog/)\n",
    "- [Apple machine learning journal](https://machinelearning.apple.com/)\n",
    "- [機器之心](https://www.jiqizhixin.com/)\n",
    "- [雷鋒網](http://www.leiphone.com/category/ai)"
   ]
  },
  {
   "cell_type": "code",
   "execution_count": null,
   "metadata": {},
   "outputs": [],
   "source": [
    "Monster Mash: A Sketch-Based Tool for Casual 3D Modeling and Animation\n",
    "Friday, April 9, 2021(Google AI blog)\n",
    "\n",
    "1.專案的目標？ \n",
    "讓非3D建模專業的人也能透過的2D草圖繪製簡單的3D動畫\n",
    "2.使用的技術是？\n",
    "先繪製好2D草圖再利用'''Poisson's equation'''將模型膨脹成3D，接著使用ARAP(As-Rigid-As-Possible Surface Modeling)的平滑方法讓\n",
    "連接處在動作期間不會又相交感產生，最後Kinesthetic learning制定動作軌跡跟範圍，即可完成簡單的3D動畫。\n",
    "3.資料來源？\n",
    "Monster Mash是Google Research，布拉格捷克技術大學，蘇黎世聯邦理工學院和華盛頓大學之間合作的結果。\n",
    "主要貢獻者包括MarekDvorožňák，DanielSýkora，Cassidy Curtis，Brian Curless，Olga Sorkine-Hornung和David Salesin。\n",
    "我們也感謝HélèneLeroux，Neth Nom，David Murphy，Samuel Leather，PavlaSýkorová和Jakub Javora參加了早期的互動會議"
   ]
  }
 ],
 "metadata": {
  "kernelspec": {
   "display_name": "Python 3",
   "language": "python",
   "name": "python3"
  },
  "language_info": {
   "codemirror_mode": {
    "name": "ipython",
    "version": 3
   },
   "file_extension": ".py",
   "mimetype": "text/x-python",
   "name": "python",
   "nbconvert_exporter": "python",
   "pygments_lexer": "ipython3",
   "version": "3.8.5"
  }
 },
 "nbformat": 4,
 "nbformat_minor": 2
}
