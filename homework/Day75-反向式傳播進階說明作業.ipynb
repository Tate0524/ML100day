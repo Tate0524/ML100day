{
 "cells": [
  {
   "cell_type": "markdown",
   "metadata": {},
   "source": [
    "# 作業目標:\n",
    "\n",
    "反向傳播演算法 - 通過建立多層的神經網路, 了解中間層權重值的更新"
   ]
  },
  {
   "cell_type": "markdown",
   "metadata": {},
   "source": [
    "# 作業重點:\n",
    "\n",
    "建立一個3 層神經網路, 通過中間層參數的變數，以對更多關係的組合進行分組\n",
    "\n",
    "syn1 權值矩陣將隱層的組合輸出映射到最終結果，而在更新 syn1 的同時，還需要更新 syn0 權值矩陣，\n"
   ]
  },
  {
   "cell_type": "code",
   "execution_count": 7,
   "metadata": {},
   "outputs": [
    {
     "name": "stdout",
     "output_type": "stream",
     "text": [
      "L2_Error:0.4964100319027255\n",
      "L1_Error:0.4964100319027255\n",
      "\n"
     ]
    },
    {
     "name": "stderr",
     "output_type": "stream",
     "text": [
      "<ipython-input-7-cecadf12f446>:15: RuntimeWarning: overflow encountered in exp\n",
      "  return 1/(1+np.exp(-x))\n"
     ]
    },
    {
     "name": "stdout",
     "output_type": "stream",
     "text": [
      "L2_Error:0.3758073423071065\n",
      "L1_Error:0.3758073423071065\n",
      "\n",
      "L2_Error:0.37506758482244174\n",
      "L1_Error:0.37506758482244174\n",
      "\n",
      "L2_Error:0.3750355333589003\n",
      "L1_Error:0.3750355333589003\n",
      "\n",
      "L2_Error:0.37502410693022975\n",
      "L1_Error:0.37502410693022975\n",
      "\n",
      "L2_Error:0.37501824188099114\n",
      "L1_Error:0.37501824188099114\n",
      "\n"
     ]
    }
   ],
   "source": [
    "import numpy as np\n",
    " \n",
    "'''\n",
    "定義數學函數:\n",
    "y=f(x) = 1/(1+np.exp(-x));\n",
    "dy/dx = df = x*(1-x) \n",
    "\n",
    "利用 deriv (derivative)做變數, 來分別指定方程式\n",
    "\n",
    "'''    \n",
    "def nonlin(x,deriv=False):\n",
    "    if(deriv==True):\n",
    "        return x*(1-x)\n",
    " \n",
    "    return 1/(1+np.exp(-x))\n",
    "\n",
    "# 參數定義\n",
    "# X 輸入資料集，形式為矩陣，每 1 行代表 1 個訓練樣本。\n",
    "# y 輸出資料集，形式為矩陣，每 1 行代表 1 個訓練樣本。\n",
    "\n",
    "X = np.array([[0,0,1],\n",
    "            [0,1,1],\n",
    "            [1,0,1],\n",
    "            [1,1,1]])\n",
    " \n",
    "y = np.array([[0],\n",
    "            [1],\n",
    "            [1],\n",
    "            [0]])\n",
    " \n",
    "np.random.seed(1)\n",
    " \n",
    "# randomly initialize our weights with mean 0 \n",
    "# syn0 第一層權值\n",
    "# syn1 第二層權值\n",
    "\n",
    "syn0 = 2*np.random.random((3,4)) - 1\n",
    "syn1 = 2*np.random.random((4,1)) - 1\n",
    "\n",
    "syn0_history = [syn0]\n",
    "syn1_history = [syn1]\n",
    " \n",
    "for j in range(60000):\n",
    " \n",
    "    # Feed forward through layers 0, 1, and 2\n",
    "    # l0 網路第 1 層，即網路輸入層。\n",
    "    # l1 網路第 2 層，常稱作隱藏層。\n",
    "    # l2 假定為網路最後一層，隨著訓練進行，其輸出應該逐漸接近正確結果\n",
    "    \n",
    "    l0 = X\n",
    "    l1 = nonlin(np.dot(l0,syn0))\n",
    "    l2 = nonlin(np.dot(l1,syn1))\n",
    " \n",
    "    # 如何計算損失: \n",
    "    # l1_error 該值為 l2_delta 經 syn1 加權後的結果，從而能夠計算得到中間層/隱層的損失。\n",
    "    # l1_delta 該值為經確信度加權後的神經網路 l1 層的損失，除了確信損失很小時，它近似等於 l1_error 。\n",
    "    \n",
    "    \n",
    "    \n",
    "    \n",
    "    \n",
    "    '''\n",
    "    作業: \n",
    "    新增\n",
    "    l2_error 該值說明了神經網路預測時“損失”的數目。\n",
    "    l2_delta 該值為經確信度加權後的神經網路的損失，除了確信損失很小時，它近似等於預測輸出。\n",
    "    '''\n",
    "    '''\n",
    "    損失計算: 數學函數輸出值減掉網路層的輸出值\n",
    "    l2_error = ??\n",
    "    '''\n",
    "    l2_error=y-l2   \n",
    "    if (j% 10000) == 0:\n",
    "        print(\"L2_Error:\" + str(np.mean(np.abs(l2_error))))\n",
    "        l2_delta=l2_error * nonlin(l2,True) \n",
    " \n",
    "    '''\n",
    "    可以參照 l1\n",
    "    l2_delta = 損失跟輸出函數的乘積\n",
    "    '''\n",
    "      \n",
    "    # how much did each l1 value contribute to the l2 error (according to the weights)?\n",
    "    l1_error = l2_delta.dot(syn1.T)\n",
    "    \n",
    "    if (j% 10000) == 0:\n",
    "        print(\"L1_Error:\" + str(np.mean(np.abs(l2_error)))+'\\n')\n",
    "    # in what direction is the target l1?\n",
    "    # were we really sure? if so, don't change too much.\n",
    "    l1_delta = l1_error * nonlin(l1,deriv=True)\n",
    " \n",
    "    syn1 += l1.T.dot(l2_delta)\n",
    "    syn0 += l0.T.dot(l1_delta)\n",
    "    \n",
    "    syn1_history.append(syn1)\n",
    "    syn0_history.append(syn0)"
   ]
  },
  {
   "cell_type": "code",
   "execution_count": 8,
   "metadata": {},
   "outputs": [
    {
     "data": {
      "image/png": "[encoded data removed]",
      "text/plain": [
       "<Figure size 432x288 with 1 Axes>"
      ]
     },
     "metadata": {
      "needs_background": "light"
     },
     "output_type": "display_data"
    }
   ],
   "source": [
    "import matplotlib.pyplot as plt\n",
    "%matplotlib inline \n",
    "#適用於 Jupyter Notebook, 宣告直接在cell 內印出執行結果\n",
    "\n",
    "plt.plot(syn0_history[0], ms=3, lw=1.5, color='black')\n",
    "plt.xlabel(r'$L1$', fontsize=16)\n",
    "plt.show()"
   ]
  },
  {
   "cell_type": "code",
   "execution_count": 9,
   "metadata": {},
   "outputs": [
    {
     "data": {
      "image/png": "[encoded data removed]",
      "text/plain": [
       "<Figure size 432x288 with 1 Axes>"
      ]
     },
     "metadata": {
      "needs_background": "light"
     },
     "output_type": "display_data"
    }
   ],
   "source": [
    "plt.plot(syn1_history[0], 'o-', ms=3, lw=1.5, color='pink')\n",
    "plt.xlabel(r'$L2$', fontsize=16)\n",
    "plt.show()"
   ]
  },
  {
   "cell_type": "code",
   "execution_count": 10,
   "metadata": {},
   "outputs": [
    {
     "name": "stdout",
     "output_type": "stream",
     "text": [
      "Output After Training (根據 L1):\n",
      "[[9.99951788e-01 4.89884706e-06 9.99953165e-01 9.99963994e-01]\n",
      " [6.75720971e-08 9.53566299e-17 6.67705667e-08 5.88442538e-08]\n",
      " [4.89139173e-07 9.99993183e-01 4.80598986e-07 1.00000000e+00]\n",
      " [1.59359779e-18 2.85530498e-06 1.50301251e-18 9.99808969e-01]]\n"
     ]
    }
   ],
   "source": [
    "print(\"Output After Training (根據 L1):\")\n",
    "print(l1)"
   ]
  },
  {
   "cell_type": "code",
   "execution_count": 11,
   "metadata": {},
   "outputs": [
    {
     "name": "stdout",
     "output_type": "stream",
     "text": [
      "Output After Training (根據 L2):\n",
      "[[0.00000000e+000]\n",
      " [4.99941309e-001]\n",
      " [1.02764701e-112]\n",
      " [0.00000000e+000]]\n"
     ]
    }
   ],
   "source": [
    "print(\"Output After Training (根據 L2):\")\n",
    "print(l2)"
   ]
  },
  {
   "cell_type": "code",
   "execution_count": null,
   "metadata": {},
   "outputs": [],
   "source": []
  }
 ],
 "metadata": {
  "kernelspec": {
   "display_name": "Python 3",
   "language": "python",
   "name": "python3"
  },
  "language_info": {
   "codemirror_mode": {
    "name": "ipython",
    "version": 3
   },
   "file_extension": ".py",
   "mimetype": "text/x-python",
   "name": "python",
   "nbconvert_exporter": "python",
   "pygments_lexer": "ipython3",
   "version": "3.8.5"
  }
 },
 "nbformat": 4,
 "nbformat_minor": 2
}
