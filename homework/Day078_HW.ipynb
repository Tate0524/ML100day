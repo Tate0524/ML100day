{
 "cells": [
  {
   "cell_type": "markdown",
   "metadata": {},
   "source": [
    "## Work\n",
    "1. 請嘗試將 preproc_x 替換成以每筆資料的 min/max 進行標準化至 -1 ~ 1 間，再進行訓練\n",
    "2. 請嘗試將 mlp 疊更深 (e.g 5~10 層)，進行訓練後觀察 learning curve 的走勢\n",
    "3. (optional) 請改用 GPU 進行訓練 (如果你有 GPU 的話)，比較使用 CPU 與 GPU 的訓練速度"
   ]
  },
  {
   "cell_type": "code",
   "execution_count": 1,
   "metadata": {},
   "outputs": [],
   "source": [
    "## \n",
    "\"\"\"\n",
    "Your code here (optional)\n",
    "確認硬體資源\n",
    "\"\"\"\n"
   ]
  },
  {
   "cell_type": "code",
   "execution_count": 1,
   "metadata": {},
   "outputs": [],
   "source": [
    "import os\n",
    "import keras\n",
    "from sklearn import preprocessing\n",
    "# 請嘗試設定 GPU：os.environ\n"
   ]
  },
  {
   "cell_type": "code",
   "execution_count": 2,
   "metadata": {},
   "outputs": [],
   "source": [
    "train, test = keras.datasets.cifar10.load_data()"
   ]
  },
  {
   "cell_type": "code",
   "execution_count": 9,
   "metadata": {},
   "outputs": [],
   "source": [
    "## 資料前處理\n",
    "\"\"\"\n",
    "Your code here\n",
    "\"\"\"\n",
    "\n",
    "def preproc_x(x, flatten=True):\n",
    "    x = 2*((x-x.min())/(x.max()-x.min())-0.5)\n",
    "    if flatten:\n",
    "        x = x.reshape((len(x), -1))\n",
    "    return x\n",
    "\n",
    "def preproc_y(y, num_classes=10):\n",
    "    if y.shape[-1] == 1:\n",
    "        y = keras.utils.to_categorical(y, num_classes)\n",
    "    return y \n",
    "\n",
    "x_train, y_train = train\n",
    "x_test, y_test = test\n",
    "\n",
    "# 資料前處理 - X 標準化\n",
    "x_train = preproc_x(x_train)\n",
    "x_test = preproc_x(x_test)\n",
    "\n",
    "# 資料前處理 -Y 轉成 onehot\n",
    "y_train = preproc_y(y_train)\n",
    "y_test = preproc_y(y_test)"
   ]
  },
  {
   "cell_type": "code",
   "execution_count": 8,
   "metadata": {},
   "outputs": [
    {
     "data": {
      "text/plain": [
       "[-1.0,\n",
       " -0.9791666666666666,\n",
       " -0.9583333333333334,\n",
       " -0.75,\n",
       " -0.625,\n",
       " -0.6041666666666667,\n",
       " -0.5,\n",
       " -0.375,\n",
       " 0.0,\n",
       " 0.02083333333333326,\n",
       " 0.20833333333333326,\n",
       " 0.25,\n",
       " 0.7083333333333333,\n",
       " 0.7708333333333333,\n",
       " 1.0]"
      ]
     },
     "execution_count": 8,
     "metadata": {},
     "output_type": "execute_result"
    }
   ],
   "source": [
    "l=[51,5,4,3,88,52,63,21,33,27,61,22,85,99,15]\n",
    "l2=[]\n",
    "l.sort()\n",
    "for i in l:\n",
    "    a=2*((i-l[0])/(l[-1]-l[0])-0.5)\n",
    "    l2.append(a)\n",
    "l2"
   ]
  },
  {
   "cell_type": "code",
   "execution_count": null,
   "metadata": {},
   "outputs": [],
   "source": []
  },
  {
   "cell_type": "code",
   "execution_count": 11,
   "metadata": {},
   "outputs": [
    {
     "name": "stdout",
     "output_type": "stream",
     "text": [
      "Model: \"functional_1\"\n",
      "_________________________________________________________________\n",
      "Layer (type)                 Output Shape              Param #   \n",
      "=================================================================\n",
      "input_1 (InputLayer)         [(None, 3072)]            0         \n",
      "_________________________________________________________________\n",
      "hidden_layer1 (Dense)        (None, 512)               1573376   \n",
      "_________________________________________________________________\n",
      "hidden_layer2 (Dense)        (None, 256)               131328    \n",
      "_________________________________________________________________\n",
      "hidden_layer3 (Dense)        (None, 128)               32896     \n",
      "_________________________________________________________________\n",
      "hidden_layer4 (Dense)        (None, 64)                8256      \n",
      "_________________________________________________________________\n",
      "hidden_layer5 (Dense)        (None, 32)                2080      \n",
      "_________________________________________________________________\n",
      "output (Dense)               (None, 10)                330       \n",
      "=================================================================\n",
      "Total params: 1,748,266\n",
      "Trainable params: 1,748,266\n",
      "Non-trainable params: 0\n",
      "_________________________________________________________________\n"
     ]
    }
   ],
   "source": [
    "\"\"\"Code Here\n",
    "建立你的神經網路\n",
    "\"\"\"\n",
    "def build_mlp(input_shape, output_units=10, num_neurons=[512, 256, 128,64,32]):\n",
    "    input_layer = keras.layers.Input(input_shape)\n",
    "    \n",
    "    for i, n_units in enumerate(num_neurons):\n",
    "        if i == 0:\n",
    "            x = keras.layers.Dense(units=n_units, activation=\"relu\", name=\"hidden_layer\"+str(i+1))(input_layer)\n",
    "        else:\n",
    "            x = keras.layers.Dense(units=n_units, activation=\"relu\", name=\"hidden_layer\"+str(i+1))(x)\n",
    "    \n",
    "    out = keras.layers.Dense(units=output_units, activation=\"softmax\", name=\"output\")(x)\n",
    "    \n",
    "    model = keras.models.Model(inputs=[input_layer], outputs=[out])\n",
    "    return model\n",
    "model = build_mlp(input_shape=x_train.shape[1:])\n",
    "model.summary()"
   ]
  },
  {
   "cell_type": "code",
   "execution_count": 12,
   "metadata": {},
   "outputs": [],
   "source": [
    "## 超參數設定\n",
    "LEARNING_RATE = 0.001\n",
    "EPOCHS = 100\n",
    "BATCH_SIZE = 256"
   ]
  },
  {
   "cell_type": "code",
   "execution_count": 13,
   "metadata": {},
   "outputs": [],
   "source": [
    "optimizer = keras.optimizers.Adam(lr=LEARNING_RATE)\n",
    "model.compile(loss=\"categorical_crossentropy\", metrics=[\"accuracy\"], optimizer=optimizer)"
   ]
  },
  {
   "cell_type": "code",
   "execution_count": 14,
   "metadata": {},
   "outputs": [
    {
     "name": "stdout",
     "output_type": "stream",
     "text": [
      "Epoch 1/100\n",
      "196/196 [==============================] - 12s 60ms/step - loss: 1.7181 - accuracy: 0.3889 - val_loss: 1.5643 - val_accuracy: 0.4492\n",
      "Epoch 2/100\n",
      "196/196 [==============================] - 7s 35ms/step - loss: 1.4905 - accuracy: 0.4750 - val_loss: 1.4883 - val_accuracy: 0.4691\n",
      "Epoch 3/100\n",
      "196/196 [==============================] - 7s 35ms/step - loss: 1.3775 - accuracy: 0.5157 - val_loss: 1.4079 - val_accuracy: 0.5049\n",
      "Epoch 4/100\n",
      "196/196 [==============================] - 7s 33ms/step - loss: 1.2777 - accuracy: 0.5492 - val_loss: 1.3885 - val_accuracy: 0.5138\n",
      "Epoch 5/100\n",
      "196/196 [==============================] - 7s 35ms/step - loss: 1.1915 - accuracy: 0.5802 - val_loss: 1.3861 - val_accuracy: 0.5212\n",
      "Epoch 6/100\n",
      "196/196 [==============================] - 7s 34ms/step - loss: 1.1138 - accuracy: 0.6071 - val_loss: 1.3727 - val_accuracy: 0.5259\n",
      "Epoch 7/100\n",
      "196/196 [==============================] - 6s 33ms/step - loss: 1.0484 - accuracy: 0.6301 - val_loss: 1.3836 - val_accuracy: 0.5254\n",
      "Epoch 8/100\n",
      "196/196 [==============================] - 6s 31ms/step - loss: 0.9813 - accuracy: 0.6540 - val_loss: 1.3844 - val_accuracy: 0.5292\n",
      "Epoch 9/100\n",
      "196/196 [==============================] - 7s 34ms/step - loss: 0.9082 - accuracy: 0.6795 - val_loss: 1.4194 - val_accuracy: 0.5261\n",
      "Epoch 10/100\n",
      "196/196 [==============================] - 7s 34ms/step - loss: 0.8460 - accuracy: 0.6986 - val_loss: 1.4345 - val_accuracy: 0.5365\n",
      "Epoch 11/100\n",
      "196/196 [==============================] - 8s 41ms/step - loss: 0.7709 - accuracy: 0.7274 - val_loss: 1.5096 - val_accuracy: 0.5332\n",
      "Epoch 12/100\n",
      "196/196 [==============================] - 6s 32ms/step - loss: 0.7107 - accuracy: 0.7487 - val_loss: 1.5747 - val_accuracy: 0.5294\n",
      "Epoch 13/100\n",
      "196/196 [==============================] - 6s 30ms/step - loss: 0.6530 - accuracy: 0.7684 - val_loss: 1.6365 - val_accuracy: 0.5303\n",
      "Epoch 14/100\n",
      "196/196 [==============================] - 7s 37ms/step - loss: 0.6037 - accuracy: 0.7879 - val_loss: 1.6848 - val_accuracy: 0.5249\n",
      "Epoch 15/100\n",
      "196/196 [==============================] - 7s 34ms/step - loss: 0.5594 - accuracy: 0.8040 - val_loss: 1.7773 - val_accuracy: 0.5346\n",
      "Epoch 16/100\n",
      "196/196 [==============================] - 6s 32ms/step - loss: 0.5038 - accuracy: 0.8210 - val_loss: 1.8475 - val_accuracy: 0.5271\n",
      "Epoch 17/100\n",
      "196/196 [==============================] - 8s 42ms/step - loss: 0.4685 - accuracy: 0.8338 - val_loss: 1.9443 - val_accuracy: 0.5271\n",
      "Epoch 18/100\n",
      "196/196 [==============================] - 7s 36ms/step - loss: 0.4299 - accuracy: 0.8481 - val_loss: 1.9960 - val_accuracy: 0.5309\n",
      "Epoch 19/100\n",
      "196/196 [==============================] - 7s 34ms/step - loss: 0.3925 - accuracy: 0.8614 - val_loss: 2.0330 - val_accuracy: 0.5338\n",
      "Epoch 20/100\n",
      "196/196 [==============================] - 6s 32ms/step - loss: 0.3708 - accuracy: 0.8707 - val_loss: 2.1414 - val_accuracy: 0.5273\n",
      "Epoch 21/100\n",
      "196/196 [==============================] - 6s 32ms/step - loss: 0.3430 - accuracy: 0.8795 - val_loss: 2.3041 - val_accuracy: 0.5299\n",
      "Epoch 22/100\n",
      "196/196 [==============================] - 6s 33ms/step - loss: 0.3174 - accuracy: 0.8883 - val_loss: 2.3295 - val_accuracy: 0.5309\n",
      "Epoch 23/100\n",
      "196/196 [==============================] - 7s 33ms/step - loss: 0.2926 - accuracy: 0.8977 - val_loss: 2.4746 - val_accuracy: 0.5231\n",
      "Epoch 24/100\n",
      "196/196 [==============================] - 7s 33ms/step - loss: 0.2718 - accuracy: 0.9055 - val_loss: 2.5275 - val_accuracy: 0.5232\n",
      "Epoch 25/100\n",
      "196/196 [==============================] - 8s 40ms/step - loss: 0.2682 - accuracy: 0.9067 - val_loss: 2.5826 - val_accuracy: 0.5296\n",
      "Epoch 26/100\n",
      "196/196 [==============================] - 9s 47ms/step - loss: 0.2457 - accuracy: 0.9159 - val_loss: 2.7249 - val_accuracy: 0.5255\n",
      "Epoch 27/100\n",
      "196/196 [==============================] - 7s 37ms/step - loss: 0.2345 - accuracy: 0.9200 - val_loss: 2.7323 - val_accuracy: 0.5219\n",
      "Epoch 28/100\n",
      "196/196 [==============================] - 7s 37ms/step - loss: 0.2302 - accuracy: 0.9205 - val_loss: 2.8232 - val_accuracy: 0.5276\n",
      "Epoch 29/100\n",
      "196/196 [==============================] - 7s 38ms/step - loss: 0.2196 - accuracy: 0.9235 - val_loss: 2.9307 - val_accuracy: 0.5256\n",
      "Epoch 30/100\n",
      "196/196 [==============================] - 7s 36ms/step - loss: 0.2046 - accuracy: 0.9290 - val_loss: 2.9724 - val_accuracy: 0.5323\n",
      "Epoch 31/100\n",
      "196/196 [==============================] - 7s 38ms/step - loss: 0.2059 - accuracy: 0.9300 - val_loss: 3.0410 - val_accuracy: 0.5249\n",
      "Epoch 32/100\n",
      "196/196 [==============================] - 7s 36ms/step - loss: 0.1942 - accuracy: 0.9335 - val_loss: 3.0029 - val_accuracy: 0.5233\n",
      "Epoch 33/100\n",
      "196/196 [==============================] - 7s 37ms/step - loss: 0.1700 - accuracy: 0.9418 - val_loss: 3.1096 - val_accuracy: 0.5348\n",
      "Epoch 34/100\n",
      "196/196 [==============================] - 7s 37ms/step - loss: 0.1812 - accuracy: 0.9386 - val_loss: 3.1532 - val_accuracy: 0.5282\n",
      "Epoch 35/100\n",
      "196/196 [==============================] - 8s 42ms/step - loss: 0.1667 - accuracy: 0.9431 - val_loss: 3.1897 - val_accuracy: 0.5255\n",
      "Epoch 36/100\n",
      "196/196 [==============================] - 7s 36ms/step - loss: 0.1454 - accuracy: 0.9498 - val_loss: 3.4387 - val_accuracy: 0.5294\n",
      "Epoch 37/100\n",
      "196/196 [==============================] - 6s 29ms/step - loss: 0.1672 - accuracy: 0.9425 - val_loss: 3.2920 - val_accuracy: 0.5187\n",
      "Epoch 38/100\n",
      "196/196 [==============================] - 6s 33ms/step - loss: 0.1696 - accuracy: 0.9423 - val_loss: 3.3647 - val_accuracy: 0.5233\n",
      "Epoch 39/100\n",
      "196/196 [==============================] - 6s 29ms/step - loss: 0.1630 - accuracy: 0.9449 - val_loss: 3.3830 - val_accuracy: 0.5189\n",
      "Epoch 40/100\n",
      "196/196 [==============================] - 6s 29ms/step - loss: 0.1455 - accuracy: 0.9491 - val_loss: 3.5190 - val_accuracy: 0.5280\n",
      "Epoch 41/100\n",
      "196/196 [==============================] - 6s 28ms/step - loss: 0.1364 - accuracy: 0.9531 - val_loss: 3.5972 - val_accuracy: 0.5299\n",
      "Epoch 42/100\n",
      "196/196 [==============================] - 6s 31ms/step - loss: 0.1430 - accuracy: 0.9507 - val_loss: 3.5028 - val_accuracy: 0.5246\n",
      "Epoch 43/100\n",
      "196/196 [==============================] - 6s 29ms/step - loss: 0.1387 - accuracy: 0.9529 - val_loss: 3.6645 - val_accuracy: 0.5261\n",
      "Epoch 44/100\n",
      "196/196 [==============================] - 6s 29ms/step - loss: 0.1345 - accuracy: 0.9561 - val_loss: 3.6243 - val_accuracy: 0.5209\n",
      "Epoch 45/100\n",
      "196/196 [==============================] - 7s 36ms/step - loss: 0.1210 - accuracy: 0.9593 - val_loss: 3.8030 - val_accuracy: 0.5326\n",
      "Epoch 46/100\n",
      "196/196 [==============================] - 6s 30ms/step - loss: 0.1465 - accuracy: 0.9527 - val_loss: 3.5323 - val_accuracy: 0.5312\n",
      "Epoch 47/100\n",
      "196/196 [==============================] - 6s 33ms/step - loss: 0.1136 - accuracy: 0.9614 - val_loss: 3.6724 - val_accuracy: 0.5234\n",
      "Epoch 48/100\n",
      "196/196 [==============================] - 6s 32ms/step - loss: 0.1194 - accuracy: 0.9603 - val_loss: 3.7957 - val_accuracy: 0.5302\n",
      "Epoch 49/100\n",
      "196/196 [==============================] - 7s 34ms/step - loss: 0.1426 - accuracy: 0.9532 - val_loss: 3.6898 - val_accuracy: 0.5275\n",
      "Epoch 50/100\n",
      "196/196 [==============================] - 6s 33ms/step - loss: 0.1206 - accuracy: 0.9580 - val_loss: 3.7521 - val_accuracy: 0.5320\n",
      "Epoch 51/100\n",
      "196/196 [==============================] - 7s 33ms/step - loss: 0.0906 - accuracy: 0.9698 - val_loss: 3.8128 - val_accuracy: 0.5354\n",
      "Epoch 52/100\n",
      "196/196 [==============================] - 6s 33ms/step - loss: 0.1139 - accuracy: 0.9621 - val_loss: 3.8323 - val_accuracy: 0.5213\n",
      "Epoch 53/100\n",
      "196/196 [==============================] - 6s 30ms/step - loss: 0.1414 - accuracy: 0.9539 - val_loss: 3.7474 - val_accuracy: 0.5178\n",
      "Epoch 54/100\n",
      "196/196 [==============================] - 6s 31ms/step - loss: 0.1110 - accuracy: 0.9635 - val_loss: 3.7629 - val_accuracy: 0.5303\n",
      "Epoch 55/100\n",
      "196/196 [==============================] - 6s 32ms/step - loss: 0.0952 - accuracy: 0.9681 - val_loss: 3.9435 - val_accuracy: 0.5254\n",
      "Epoch 56/100\n",
      "196/196 [==============================] - 6s 29ms/step - loss: 0.1100 - accuracy: 0.9636 - val_loss: 3.8916 - val_accuracy: 0.5256\n",
      "Epoch 57/100\n"
     ]
    },
    {
     "name": "stdout",
     "output_type": "stream",
     "text": [
      "196/196 [==============================] - 6s 29ms/step - loss: 0.1115 - accuracy: 0.9634 - val_loss: 3.8927 - val_accuracy: 0.5282\n",
      "Epoch 58/100\n",
      "196/196 [==============================] - 6s 29ms/step - loss: 0.1068 - accuracy: 0.9651 - val_loss: 4.0447 - val_accuracy: 0.5235\n",
      "Epoch 59/100\n",
      "196/196 [==============================] - 6s 29ms/step - loss: 0.0873 - accuracy: 0.9710 - val_loss: 4.0531 - val_accuracy: 0.5251\n",
      "Epoch 60/100\n",
      "196/196 [==============================] - 6s 30ms/step - loss: 0.1004 - accuracy: 0.9670 - val_loss: 4.0590 - val_accuracy: 0.5307\n",
      "Epoch 61/100\n",
      "196/196 [==============================] - 7s 33ms/step - loss: 0.0865 - accuracy: 0.9710 - val_loss: 4.1091 - val_accuracy: 0.5260\n",
      "Epoch 62/100\n",
      "196/196 [==============================] - 7s 34ms/step - loss: 0.1190 - accuracy: 0.9617 - val_loss: 3.9682 - val_accuracy: 0.5247\n",
      "Epoch 63/100\n",
      "196/196 [==============================] - 7s 35ms/step - loss: 0.1062 - accuracy: 0.9656 - val_loss: 3.9850 - val_accuracy: 0.5276\n",
      "Epoch 64/100\n",
      "196/196 [==============================] - 6s 33ms/step - loss: 0.0889 - accuracy: 0.9714 - val_loss: 4.1534 - val_accuracy: 0.5282\n",
      "Epoch 65/100\n",
      "196/196 [==============================] - 7s 33ms/step - loss: 0.0951 - accuracy: 0.9683 - val_loss: 4.0791 - val_accuracy: 0.5286\n",
      "Epoch 66/100\n",
      "196/196 [==============================] - 7s 34ms/step - loss: 0.0870 - accuracy: 0.9715 - val_loss: 4.2502 - val_accuracy: 0.5307\n",
      "Epoch 67/100\n",
      "196/196 [==============================] - 7s 34ms/step - loss: 0.0931 - accuracy: 0.9693 - val_loss: 4.0893 - val_accuracy: 0.5278\n",
      "Epoch 68/100\n",
      "196/196 [==============================] - 7s 35ms/step - loss: 0.1137 - accuracy: 0.9625 - val_loss: 4.1949 - val_accuracy: 0.5270\n",
      "Epoch 69/100\n",
      "196/196 [==============================] - 6s 33ms/step - loss: 0.0991 - accuracy: 0.9674 - val_loss: 4.0885 - val_accuracy: 0.5296\n",
      "Epoch 70/100\n",
      "196/196 [==============================] - 6s 32ms/step - loss: 0.0974 - accuracy: 0.9681 - val_loss: 4.0322 - val_accuracy: 0.5276\n",
      "Epoch 71/100\n",
      "196/196 [==============================] - 6s 33ms/step - loss: 0.0766 - accuracy: 0.9759 - val_loss: 4.1748 - val_accuracy: 0.5313\n",
      "Epoch 72/100\n",
      "196/196 [==============================] - 7s 35ms/step - loss: 0.0807 - accuracy: 0.9739 - val_loss: 4.2599 - val_accuracy: 0.5362\n",
      "Epoch 73/100\n",
      "196/196 [==============================] - 7s 36ms/step - loss: 0.0637 - accuracy: 0.9793 - val_loss: 4.4503 - val_accuracy: 0.5280\n",
      "Epoch 74/100\n",
      "196/196 [==============================] - 7s 34ms/step - loss: 0.0772 - accuracy: 0.9749 - val_loss: 4.3885 - val_accuracy: 0.5271\n",
      "Epoch 75/100\n",
      "196/196 [==============================] - 7s 34ms/step - loss: 0.0995 - accuracy: 0.9673 - val_loss: 4.2211 - val_accuracy: 0.5209\n",
      "Epoch 76/100\n",
      "196/196 [==============================] - 7s 34ms/step - loss: 0.0845 - accuracy: 0.9720 - val_loss: 4.2940 - val_accuracy: 0.5294\n",
      "Epoch 77/100\n",
      "196/196 [==============================] - 6s 29ms/step - loss: 0.1024 - accuracy: 0.9664 - val_loss: 4.1612 - val_accuracy: 0.5257\n",
      "Epoch 78/100\n",
      "196/196 [==============================] - 6s 30ms/step - loss: 0.0888 - accuracy: 0.9720 - val_loss: 4.0661 - val_accuracy: 0.5336\n",
      "Epoch 79/100\n",
      "196/196 [==============================] - 7s 35ms/step - loss: 0.0734 - accuracy: 0.9761 - val_loss: 4.3137 - val_accuracy: 0.5317\n",
      "Epoch 80/100\n",
      "196/196 [==============================] - 7s 37ms/step - loss: 0.0664 - accuracy: 0.9783 - val_loss: 4.3637 - val_accuracy: 0.5313\n",
      "Epoch 81/100\n",
      "196/196 [==============================] - 7s 37ms/step - loss: 0.0818 - accuracy: 0.9743 - val_loss: 4.2601 - val_accuracy: 0.5306\n",
      "Epoch 82/100\n",
      "196/196 [==============================] - 7s 36ms/step - loss: 0.0706 - accuracy: 0.9766 - val_loss: 4.2835 - val_accuracy: 0.5334\n",
      "Epoch 83/100\n",
      "196/196 [==============================] - 7s 35ms/step - loss: 0.0629 - accuracy: 0.9801 - val_loss: 4.4242 - val_accuracy: 0.5316\n",
      "Epoch 84/100\n",
      "196/196 [==============================] - 7s 34ms/step - loss: 0.0841 - accuracy: 0.9726 - val_loss: 4.5037 - val_accuracy: 0.5160\n",
      "Epoch 85/100\n",
      "196/196 [==============================] - 7s 36ms/step - loss: 0.0930 - accuracy: 0.9709 - val_loss: 4.3163 - val_accuracy: 0.5307\n",
      "Epoch 86/100\n",
      "196/196 [==============================] - 7s 34ms/step - loss: 0.0838 - accuracy: 0.9727 - val_loss: 4.2034 - val_accuracy: 0.5232\n",
      "Epoch 87/100\n",
      "196/196 [==============================] - 6s 32ms/step - loss: 0.0577 - accuracy: 0.9812 - val_loss: 4.4887 - val_accuracy: 0.5341\n",
      "Epoch 88/100\n",
      "196/196 [==============================] - 6s 29ms/step - loss: 0.0716 - accuracy: 0.9765 - val_loss: 4.3517 - val_accuracy: 0.5336\n",
      "Epoch 89/100\n",
      "196/196 [==============================] - 6s 29ms/step - loss: 0.0816 - accuracy: 0.9746 - val_loss: 4.5331 - val_accuracy: 0.5268\n",
      "Epoch 90/100\n",
      "196/196 [==============================] - 6s 33ms/step - loss: 0.0781 - accuracy: 0.9748 - val_loss: 4.3639 - val_accuracy: 0.5373\n",
      "Epoch 91/100\n",
      "196/196 [==============================] - 7s 35ms/step - loss: 0.0509 - accuracy: 0.9838 - val_loss: 4.5540 - val_accuracy: 0.5334\n",
      "Epoch 92/100\n",
      "196/196 [==============================] - 6s 33ms/step - loss: 0.0736 - accuracy: 0.9763 - val_loss: 4.3057 - val_accuracy: 0.5305\n",
      "Epoch 93/100\n",
      "196/196 [==============================] - 6s 33ms/step - loss: 0.0792 - accuracy: 0.9745 - val_loss: 4.4135 - val_accuracy: 0.5316\n",
      "Epoch 94/100\n",
      "196/196 [==============================] - 6s 33ms/step - loss: 0.0732 - accuracy: 0.9771 - val_loss: 4.5139 - val_accuracy: 0.5314\n",
      "Epoch 95/100\n",
      "196/196 [==============================] - 7s 33ms/step - loss: 0.0784 - accuracy: 0.9745 - val_loss: 4.5935 - val_accuracy: 0.5233\n",
      "Epoch 96/100\n",
      "196/196 [==============================] - 7s 36ms/step - loss: 0.0627 - accuracy: 0.9798 - val_loss: 4.5418 - val_accuracy: 0.5266\n",
      "Epoch 97/100\n",
      "196/196 [==============================] - 9s 44ms/step - loss: 0.0501 - accuracy: 0.9839 - val_loss: 4.5373 - val_accuracy: 0.5317\n",
      "Epoch 98/100\n",
      "196/196 [==============================] - 8s 39ms/step - loss: 0.0807 - accuracy: 0.9749 - val_loss: 4.4045 - val_accuracy: 0.5278\n",
      "Epoch 99/100\n",
      "196/196 [==============================] - 8s 40ms/step - loss: 0.0767 - accuracy: 0.9748 - val_loss: 4.4692 - val_accuracy: 0.5236\n",
      "Epoch 100/100\n",
      "196/196 [==============================] - 7s 37ms/step - loss: 0.0552 - accuracy: 0.9821 - val_loss: 4.5187 - val_accuracy: 0.5276\n"
     ]
    },
    {
     "data": {
      "text/plain": [
       "<tensorflow.python.keras.callbacks.History at 0x17f89a81d00>"
      ]
     },
     "execution_count": 14,
     "metadata": {},
     "output_type": "execute_result"
    }
   ],
   "source": [
    "model.fit(x_train, y_train, \n",
    "          epochs=EPOCHS, \n",
    "          batch_size=BATCH_SIZE, \n",
    "          validation_data=(x_test, y_test), \n",
    "          shuffle=True)"
   ]
  },
  {
   "cell_type": "code",
   "execution_count": 15,
   "metadata": {},
   "outputs": [
    {
     "data": {
      "image/png": "[encoded data removed]",
      "text/plain": [
       "<Figure size 432x288 with 1 Axes>"
      ]
     },
     "metadata": {
      "needs_background": "light"
     },
     "output_type": "display_data"
    },
    {
     "data": {
      "image/png": "[encoded data removed]",
      "text/plain": [
       "<Figure size 432x288 with 1 Axes>"
      ]
     },
     "metadata": {
      "needs_background": "light"
     },
     "output_type": "display_data"
    }
   ],
   "source": [
    "import matplotlib.pyplot as plt\n",
    "\n",
    "\n",
    "train_loss = model.history.history[\"loss\"]\n",
    "valid_loss = model.history.history[\"val_loss\"]\n",
    "\n",
    "train_acc = model.history.history[\"accuracy\"]\n",
    "valid_acc = model.history.history[\"val_accuracy\"]\n",
    "\n",
    "plt.plot(range(len(train_loss)), train_loss, label=\"train loss\")\n",
    "plt.plot(range(len(valid_loss)), valid_loss, label=\"valid loss\")\n",
    "plt.legend()\n",
    "plt.title(\"Loss\")\n",
    "plt.show()\n",
    "\n",
    "plt.plot(range(len(train_acc)), train_acc, label=\"train accuracy\")\n",
    "plt.plot(range(len(valid_acc)), valid_acc, label=\"valid accuracy\")\n",
    "plt.legend()\n",
    "plt.title(\"Accuracy\")\n",
    "plt.show()"
   ]
  },
  {
   "cell_type": "code",
   "execution_count": null,
   "metadata": {},
   "outputs": [],
   "source": []
  },
  {
   "cell_type": "code",
   "execution_count": null,
   "metadata": {},
   "outputs": [],
   "source": []
  },
  {
   "cell_type": "code",
   "execution_count": null,
   "metadata": {},
   "outputs": [],
   "source": []
  },
  {
   "cell_type": "code",
   "execution_count": null,
   "metadata": {},
   "outputs": [],
   "source": []
  },
  {
   "cell_type": "code",
   "execution_count": 12,
   "metadata": {},
   "outputs": [
    {
     "data": {
      "image/png": "[encoded data removed]",
      "text/plain": [
       "<Figure size 432x288 with 1 Axes>"
      ]
     },
     "metadata": {},
     "output_type": "display_data"
    },
    {
     "data": {
      "image/png": "[encoded data removed]",
      "text/plain": [
       "<Figure size 432x288 with 1 Axes>"
      ]
     },
     "metadata": {},
     "output_type": "display_data"
    }
   ],
   "source": [
    "import matplotlib.pyplot as plt\n",
    "\n",
    "\n",
    "train_loss = model.history.history[\"loss\"]\n",
    "valid_loss = model.history.history[\"val_loss\"]\n",
    "\n",
    "train_acc = model.history.history[\"acc\"]\n",
    "valid_acc = model.history.history[\"val_acc\"]\n",
    "\n",
    "plt.plot(range(len(train_loss)), train_loss, label=\"train loss\")\n",
    "plt.plot(range(len(valid_loss)), valid_loss, label=\"valid loss\")\n",
    "plt.legend()\n",
    "plt.title(\"Loss\")\n",
    "plt.show()\n",
    "\n",
    "plt.plot(range(len(train_acc)), train_acc, label=\"train accuracy\")\n",
    "plt.plot(range(len(valid_acc)), valid_acc, label=\"valid accuracy\")\n",
    "plt.legend()\n",
    "plt.title(\"Accuracy\")\n",
    "plt.show()"
   ]
  }
 ],
 "metadata": {
  "kernelspec": {
   "display_name": "Python 3",
   "language": "python",
   "name": "python3"
  },
  "language_info": {
   "codemirror_mode": {
    "name": "ipython",
    "version": 3
   },
   "file_extension": ".py",
   "mimetype": "text/x-python",
   "name": "python",
   "nbconvert_exporter": "python",
   "pygments_lexer": "ipython3",
   "version": "3.8.5"
  }
 },
 "nbformat": 4,
 "nbformat_minor": 2
}
