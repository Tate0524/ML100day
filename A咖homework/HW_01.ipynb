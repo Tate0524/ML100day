{
 "cells": [
  {
   "cell_type": "code",
   "execution_count": 1,
   "metadata": {},
   "outputs": [],
   "source": [
    "import numpy as np\n",
    "import pandas as pd\n",
    "import time"
   ]
  },
  {
   "cell_type": "markdown",
   "metadata": {},
   "source": [
    "# Hw01\n",
    "## 作業目標：\n",
    "1. 熟悉 Numpy, Pandas 的操作，並比較兩者的處理速度\n",
    "## 作業重點：\n",
    "1. 使用 Numpy, Pandas 分別計算 “homework.csv” 中每個 feature 的平均值、中位數、最大值、最小值，並比較兩者運算時間\n",
    "2. 利用以下方式篩選離群值(option)：\n",
    "* feature 的平均值組成一個高維向量 Vec\n",
    "* 計算每個 sample 與 Vec 的距離\n",
    "* 計算距離的平均值、標準差，將距離平均值超過三個標準差的點當作離群值刪除\n",
    "* __請將刪除離群值後的 dataframe 取名為 df_after_delete__"
   ]
  },
  {
   "cell_type": "code",
   "execution_count": 2,
   "metadata": {},
   "outputs": [],
   "source": [
    "# 讀取 homework.csv\n",
    "df=pd.read_csv('homework.csv')\n",
    "\n"
   ]
  },
  {
   "cell_type": "markdown",
   "metadata": {},
   "source": [
    "## 1. 使用 Numpy, Pandas 分別計算 “homework.csv” 中每個 feature 的平均值、中位數、最大值、最小值，並比較兩者運算時間"
   ]
  },
  {
   "cell_type": "code",
   "execution_count": 5,
   "metadata": {},
   "outputs": [
    {
     "name": "stdout",
     "output_type": "stream",
     "text": [
      "Pandas has done in 0.1267 sec.\n",
      "Pandas has done in 0.1605 sec.\n"
     ]
    }
   ],
   "source": [
    "# -------------- Numpy --------------\n",
    "arr = np.array(df, dtype = 'float')\n",
    "\n",
    "start = time.time()\n",
    "np.mean(arr, axis = 0)\n",
    "np.median(arr, axis = 0)\n",
    "np.max(arr, axis = 0)\n",
    "np.min(arr, axis = 0)\n",
    "end = time.time()\n",
    "print(f'Pandas has done in {(end - start):.4f} sec.')\n",
    "\n",
    "# -------------- Pandas --------------\n",
    "start = time.time()\n",
    "\"\"\" Your Code Here: 用 Pandas 計算 “homework.csv” 中每個 feature 的平均值、中位數、最大值、最小值，並比較兩者運算時間\"\"\"\n",
    "df.std()\n",
    "df.median()\n",
    "df.max()\n",
    "df.min()\n",
    "end = time.time()\n",
    "print(f'Pandas has done in {(end - start):.4f} sec.')"
   ]
  },
  {
   "cell_type": "markdown",
   "metadata": {},
   "source": [
    "## 2. 利用以下方式篩選離群值(option)：\n",
    "* feature 的平均值組成一個高維向量 Vec\n",
    "* 計算每個 sample 與 Vec 的距離\n",
    "* 計算距離的平均值、標準差，將距離平均值超過三個標準差的點當作離群值刪除\n",
    "* __請將刪除離群值後的 dataframe 取名為 df_after_delete__"
   ]
  },
  {
   "cell_type": "code",
   "execution_count": 14,
   "metadata": {},
   "outputs": [],
   "source": [
    "# 計算各個 sample 與 Vec 之距離\n",
    "\"\"\" Your Code Here: 計算各個 sample 與 Vec 之距離\"\"\"\n",
    "n_samples=df.shape[0]\n",
    "n_features=df.shape[1]\n",
    "means = np.tile(df.std(), n_samples).reshape((n_samples, n_features))\n",
    "d = np.sum((arr - means) ** 2, axis = 1)\n",
    "d = np.sqrt(d)\n",
    "\n",
    "# 計算 distance 的 mean, std, 並篩選離群值\n",
    "\"\"\" Your Code Here: 計算 distance 的 mean, std, 並篩選離群值\"\"\"\n",
    "d_mean=np.mean(d)\n",
    "d_std=np.std(d)\n",
    "outlier_idx = np.where(np.abs(d - d_mean) > d_std * 3)[0]\n",
    "# 刪除離群值\n",
    "\"\"\" Your Code Here: 刪除離群值\"\"\"\n",
    "df_delete = df.drop(index = outlier_idx).reset_index(drop = True)"
   ]
  },
  {
   "cell_type": "markdown",
   "metadata": {},
   "source": [
    "## --驗證答案--"
   ]
  },
  {
   "cell_type": "code",
   "execution_count": 17,
   "metadata": {},
   "outputs": [
    {
     "name": "stdout",
     "output_type": "stream",
     "text": [
      "Your answer is True.\n"
     ]
    }
   ],
   "source": [
    "ans = pd.read_csv('./ans.csv')\n",
    "judge = not (False in (ans == df_delete))\n",
    "print(f'Your answer is {judge}.')"
   ]
  },
  {
   "cell_type": "code",
   "execution_count": null,
   "metadata": {},
   "outputs": [],
   "source": []
  }
 ],
 "metadata": {
  "kernelspec": {
   "display_name": "Python 3",
   "language": "python",
   "name": "python3"
  },
  "language_info": {
   "codemirror_mode": {
    "name": "ipython",
    "version": 3
   },
   "file_extension": ".py",
   "mimetype": "text/x-python",
   "name": "python",
   "nbconvert_exporter": "python",
   "pygments_lexer": "ipython3",
   "version": "3.8.5"
  },
  "metadata": {
   "interpreter": {
    "hash": "aee8b7b246df8f9039afb4144a1f6fd8d2ca17a180786b69acc140d282b71a49"
   }
  }
 },
 "nbformat": 4,
 "nbformat_minor": 5
}
